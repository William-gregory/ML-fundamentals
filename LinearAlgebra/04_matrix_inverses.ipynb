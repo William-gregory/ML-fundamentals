{
 "cells": [
  {
   "cell_type": "markdown",
   "id": "f17b4606",
   "metadata": {},
   "source": [
    "This notebook follows on from the third notebook in this series *03 The determinant*. Here we will be looking at useful operations and definitions of matrices, including things like matrix inverse and matrix rank\n",
    "\n",
    "### Load libraries and setup plotting function"
   ]
  },
  {
   "cell_type": "code",
   "execution_count": 1,
   "id": "a9131c87",
   "metadata": {},
   "outputs": [],
   "source": [
    "import numpy as np\n",
    "import matplotlib.pyplot as plt\n",
    "\n",
    "def plot_setup(ax,xlim=[-2,4],ylim=[-2,4],xcoords=[1,0.4],ycoords=[0.4,0.95],grid=True): \n",
    "    ax.spines['top'].set_color('none')\n",
    "    ax.spines['bottom'].set_position('zero')\n",
    "    ax.spines['left'].set_position('zero')\n",
    "    ax.spines['right'].set_color('none')\n",
    "    if grid:\n",
    "        ax.grid(grid,alpha=.3)        \n",
    "    ax.set_xlim(xlim)\n",
    "    ax.set_ylim(ylim)\n",
    "    ax.set_xticks(np.arange(xlim[0],xlim[1]+1, 1))\n",
    "    ax.set_yticks(np.arange(ylim[0], ylim[1]+1, 1))\n",
    "    ax.set_xlabel('$x_1$',fontsize=12)\n",
    "    ax.set_ylabel('$x_2$',rotation=0,labelpad=15,fontsize=12)\n",
    "    ax.xaxis.set_label_coords(xcoords[0],xcoords[1])\n",
    "    ax.yaxis.set_label_coords(ycoords[0],ycoords[1])\n",
    "    return ax"
   ]
  },
  {
   "cell_type": "markdown",
   "id": "7bc1be1d",
   "metadata": {},
   "source": [
    "### Linear systems of equations\n",
    "\n",
    "Consider the following sets of linear equations:\n",
    "\n",
    "\\begin{aligned}\n",
    "& 2x + 5y + 3z = -3 \\\\\n",
    "& 4x + 0y + 8z = 0 \\\\\n",
    "& 1x + 3y + 0z = 2.\n",
    "\\end{aligned}\n",
    "\n",
    "Here we have three unknown variables $x$, $y$, and $z$, and a list of 3 equations relating each of them. What makes these equations linear is that each unknown is being scaled by a real number, and that the terms in each equation are being added. In other words, there are no non-linear terms such as $xy$, $z^3$, or $sin(x)$.\n",
    "\n",
    "Another way to represent these linear systems of equations, is through matrix-vector multiplication:\n",
    "\n",
    "\\begin{equation}\n",
    "\\begin{bmatrix} 2 & 5 & 3 \\\\ 4 & 0 & 8 \\\\ 1 & 3 & 0 \\end{bmatrix}\\begin{bmatrix} x \\\\ y \\\\ z \\end{bmatrix} = \\begin{bmatrix} -3 \\\\ 0 \\\\ 2 \\end{bmatrix}, \n",
    "\\end{equation}\n",
    "\n",
    "or you might recognise this in a more familiar form (recall notebook *02 Introduction to matrices*):\n",
    "\n",
    "\\begin{equation}\n",
    "\\pmb{M}\\pmb{x} = \\tilde{\\pmb{x}}.\n",
    "\\end{equation}\n",
    "\n",
    "Based on what we have already learned, we can recognise that, geometrically, what we want to do here is find the vector $\\pmb{x}$, such that after we pass it through the transformation $\\pmb{M}$, we get the vector $\\tilde{\\pmb{x}}$. Let's look at a 2D example for ease of visualisation:"
   ]
  },
  {
   "cell_type": "code",
   "execution_count": 102,
   "id": "4a48966f",
   "metadata": {},
   "outputs": [
    {
     "data": {
      "image/png": "[encoded data removed]",
      "text/plain": [
       "<Figure size 360x360 with 1 Axes>"
      ]
     },
     "metadata": {
      "needs_background": "light"
     },
     "output_type": "display_data"
    }
   ],
   "source": [
    "from mpl_toolkits.mplot3d import Axes3D\n",
    "\n",
    "M = np.array([[2,4],[2,2]])\n",
    "x_t = np.array([2,3])\n",
    "x = np.dot(np.linalg.inv(M),x_t)\n",
    "\n",
    "\n",
    "fig,ax = plt.subplots(1,figsize=(5,5))\n",
    "ax = plot_setup(ax,[-1,3],[-1,4],xcoords=[1,0.25],ycoords=[0.3,0.95])\n",
    "ax.scatter([0,x_t[0]],[0,x_t[1]],color='w')\n",
    "ax.quiver(0,0,x_t[0],x_t[1],units='xy',angles='xy',scale=1.02)\n",
    "ax.quiver(0,0,x[0],x[1],units='xy',angles='xy',scale=0.86,color='purple',zorder=1000,alpha=0.3)\n",
    "ax.quiver(0,0,M[0,0],M[0,1],units='xy',angles='xy',scale=1.05,color='r',zorder=1000)\n",
    "ax.quiver(0,0,M[1,0],M[1,1],units='xy',angles='xy',scale=0.96,color='r',zorder=1000)\n",
    "ax.text(1.1,2,r'$\\tilde{\\mathbf{x}}$',color='k',fontsize=14)\n",
    "ax.text(1.5,-0.65,r'$\\mathbf{x}$',color='purple',fontsize=14,alpha=0.3)\n",
    "ax.text(1.3,3,r'$\\tilde{\\mathbf{i}}$',color='r',fontsize=14)\n",
    "ax.text(1.5,1.7,r'$\\tilde{\\mathbf{j}}$',color='r',fontsize=14)\n",
    "plt.show()"
   ]
  },
  {
   "cell_type": "markdown",
   "id": "3be0a33b",
   "metadata": {},
   "source": [
    "### The matrix inverse\n",
    "\n",
    "Here we can see our observed vector in black, $\\tilde{\\pmb{x}}$, and the location of our basis (unit) vectors $\\tilde{\\pmb{i}}$ and $\\tilde{\\pmb{j}}$, which describe the linear tranformation $\\pmb{M}$. The vector $\\pmb{x}$ is then unknown and is what we would like to recover. To reiterate, $\\tilde{\\pmb{x}}$ is the vector that we get by passing $\\pmb{x}$ through the linear transformation $\\pmb{M}$.\n",
    "\n",
    "The way we compute the vector $\\pmb{x}$ is by reversing the linear transformation performed by $\\pmb{M}$, or rather, computing the matrix inverse:\n",
    "\n",
    "\\begin{equation}\n",
    "\\pmb{x} = \\pmb{M}^{-1}\\tilde{\\pmb{x}}.\n",
    "\\end{equation}\n",
    "\n",
    "In this notebook we aren't going to worry about the specifics of how to actually compute this inverse and will just rely on the numpy function *numpy.linalg.inv()*. Instead we will focus on what specific properties of matrices are required in order for us to be able to invert them.\n",
    "\n",
    "Thinking about the inverse matrix as a reverse linear transformation, we can understand that if we apply the following two transformations $\\pmb{M}^{-1}\\pmb{M}$ through matrix multiplication, we end where we we started. There is a special name for this type of composition matrix, and it is the *indentity* matrix $\\pmb{I}$:\n",
    "\n",
    "\\begin{equation}\n",
    "\\pmb{I} = \\begin{bmatrix} 1 & 0 \\\\ 0 & 1 \\end{bmatrix}.\n",
    "\\end{equation}\n",
    "\n",
    "The identity matrix is a square matrix with values of 1 along the diagonal and zeros on all off-diagonal elements. This corresponds to applying no transformation, i.e., doing nothing. Therefore we can see now that what we're really doing when solving the system of linear equations is:\n",
    "\n",
    "\\begin{equation}\n",
    "\\pmb{M}\\pmb{x} = \\tilde{\\pmb{x}} \\\\\n",
    "\\pmb{M}^{-1}\\pmb{M}\\pmb{x} = \\pmb{M}^{-1}\\tilde{\\pmb{x}} \\\\\n",
    "\\pmb{I}\\pmb{x} = \\pmb{M}^{-1}\\tilde{\\pmb{x}} \\\\\n",
    "\\pmb{x} = \\pmb{M}^{-1}\\tilde{\\pmb{x}}.\n",
    "\\end{equation}\n",
    "\n",
    "### The role of the determinant\n",
    "\n",
    "In the above examples the linear transformation given by $\\pmb{M}$ has had a non-zero determinant, which means that the transformation does not reduce the dimensionality of the vector $\\pmb{x}$. "
   ]
  },
  {
   "cell_type": "markdown",
   "id": "0f373b5b",
   "metadata": {},
   "source": [
    "### Upcoming...\n",
    "\n",
    "Now that we better understand the various properties of matrices, in the next notebook we will look at more useful computations such as cross and dot product of matrices and vectors"
   ]
  },
  {
   "cell_type": "code",
   "execution_count": null,
   "id": "9e1c5b31",
   "metadata": {},
   "outputs": [],
   "source": []
  }
 ],
 "metadata": {
  "kernelspec": {
   "display_name": "Python 3 (ipykernel)",
   "language": "python",
   "name": "python3"
  },
  "language_info": {
   "codemirror_mode": {
    "name": "ipython",
    "version": 3
   },
   "file_extension": ".py",
   "mimetype": "text/x-python",
   "name": "python",
   "nbconvert_exporter": "python",
   "pygments_lexer": "ipython3",
   "version": "3.9.16"
  }
 },
 "nbformat": 4,
 "nbformat_minor": 5
}
