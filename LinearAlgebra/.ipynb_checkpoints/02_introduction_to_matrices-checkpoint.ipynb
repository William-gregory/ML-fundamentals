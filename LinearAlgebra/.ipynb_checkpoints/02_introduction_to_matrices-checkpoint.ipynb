{
 "cells": [
  {
   "cell_type": "markdown",
   "id": "f17b4606",
   "metadata": {},
   "source": [
    "This notebook follows on from the first notebook in this series *01 Introduction to vectors*. Here we will be looking at matrices, and specifically how they can be considered as operators which perform linear transformations\n",
    "\n",
    "### Load libraries and setup plotting function"
   ]
  },
  {
   "cell_type": "code",
   "execution_count": 1,
   "id": "a9131c87",
   "metadata": {},
   "outputs": [],
   "source": [
    "import numpy as np\n",
    "import matplotlib.pyplot as plt\n",
    "\n",
    "def plot_setup(ax,xlim=[-2,4],ylim=[-2,4],xcoords=[1,0.4],ycoords=[0.4,0.95]): \n",
    "    ax.spines['top'].set_color('none')\n",
    "    ax.spines['bottom'].set_position('zero')\n",
    "    ax.spines['left'].set_position('zero')\n",
    "    ax.spines['right'].set_color('none')\n",
    "    ax.grid(True,alpha=.3)\n",
    "    ax.set_xlim(xlim)\n",
    "    ax.set_ylim(ylim)\n",
    "    ax.set_xticks(np.arange(xlim[0],xlim[1]+1, 1))\n",
    "    ax.set_yticks(np.arange(ylim[0], ylim[1]+1, 1))\n",
    "    ax.set_xlabel('$x_1$',fontsize=12)\n",
    "    ax.set_ylabel('$x_2$',rotation=0,labelpad=15,fontsize=12)\n",
    "    ax.xaxis.set_label_coords(xcoords[0],xcoords[1])\n",
    "    ax.yaxis.set_label_coords(ycoords[0],ycoords[1])\n",
    "    return ax"
   ]
  },
  {
   "cell_type": "markdown",
   "id": "ba020729",
   "metadata": {},
   "source": [
    "### What is a linear transformation?\n",
    "\n",
    "A linear transformation is effectively a function which maps some input vector into a new output vector of equal dimensions, for example:\n",
    "\n",
    "\\begin{equation}\n",
    "\\tilde{\\pmb{x}} = \\mathcal{L}(\\pmb{x}),\n",
    "\\end{equation}\n",
    "\n",
    "where $\\tilde{}$ denotes a vector which has undergone a linear transformation. A transformation is said to be 'linear' if both the origin point remains fixed before and after the transformation, and straight lines in the space of vectors remain straight lines (i.e., they do not become curves) - think of a transformation as changing (e.g., rotating, scaling or shearing) the actual 2D space of the input vector, rather than making some change the vector itself. You can visualise the 2D space of the input vector as the faint grid lines in the plots below. A linear transformation would then act to e.g., rotate these grid lines while keeping them parallel and the origin fixed (transformed space shown by the darker grey lines). \n",
    "\n",
    "Consider for example some linear transformation of the unit vectors $\\pmb{i} =  [1, 0]$ and $\\pmb{j} =  [0, 1]$, such that $\\tilde{\\pmb{i}} =  [1, -2]$ and $\\tilde{\\pmb{j}} =  [3, 0]$"
   ]
  },
  {
   "cell_type": "code",
   "execution_count": null,
   "id": "282dca0a",
   "metadata": {},
   "outputs": [],
   "source": []
  },
  {
   "cell_type": "code",
   "execution_count": 99,
   "id": "bf14b192",
   "metadata": {},
   "outputs": [
    {
     "data": {
      "image/png": "[encoded data removed]",
      "text/plain": [
       "<Figure size 720x360 with 2 Axes>"
      ]
     },
     "metadata": {
      "needs_background": "light"
     },
     "output_type": "display_data"
    }
   ],
   "source": [
    "i = np.array([1,0])\n",
    "j = np.array([0,1])\n",
    "i_T = np.array([1,-2])\n",
    "j_T = np.array([3,0])\n",
    "\n",
    "fig,ax = plt.subplots(1,2,figsize=(10,5))\n",
    "for c in range(2):\n",
    "    ax[c] = plot_setup(ax[c],[-1,6],[-3,3],xcoords=[1,0.42],ycoords=[0.2,0.95])\n",
    "    ax[c].scatter([0,1],[0,1],color='w')\n",
    "    \n",
    "    if c == 0:\n",
    "        ax[c].quiver(0,0,i[0],i[1],units='xy',angles='xy',scale=1,color='r',zorder=1000)\n",
    "        ax[c].quiver(0,0,j[0],j[1],units='xy',angles='xy',scale=0.85,color='r',zorder=1000)\n",
    "        ax[c].text(0.1,0.5,'$\\mathbf{j}$',color='r',fontsize=14)\n",
    "        ax[c].text(0.4,0.1,'$\\mathbf{i}$',color='r',fontsize=14)\n",
    "    else:\n",
    "        ax[c].text(1.5,0.25,r'$\\tilde{\\mathbf{j}}$',color='r',fontsize=14)\n",
    "        ax[c].text(0.6,-1,r'$\\tilde{\\mathbf{i}}$',color='r',fontsize=14)\n",
    "        color = (0.5,0.5,0.5)\n",
    "        ax[c].axhline(-2,0,1,color=color) #recode this bit to generalise to different transformations\n",
    "        ax[c].axhline(2,0,1,color=color)\n",
    "        xtransform = np.array([1,7]) ; ytransform = np.array([4,-8])\n",
    "        ax[c].plot(xtransform,ytransform,color=color)\n",
    "        ax[c].plot(xtransform-3,ytransform,color=color)\n",
    "        ax[c].plot(xtransform+3,ytransform,color=color)\n",
    "        ax[c].quiver(0,0,i_T[0],i_T[1],units='xy',angles='xy',scale=0.88,color='r',zorder=1000)\n",
    "        ax[c].quiver(0,0,j_T[0],j_T[1],units='xy',angles='xy',scale=1.08,color='r',zorder=1000)\n",
    "plt.show()"
   ]
  },
  {
   "cell_type": "markdown",
   "id": "a13f470b",
   "metadata": {},
   "source": [
    "Recall from the first notebook *01 introduction to vectors* how an arbitrary vector $\\pmb{x}$ can be described as the linear combination of a set of basis vectors, $\\pmb{i}$ and $\\pmb{j}$. For example, the vector $\\pmb{x} = [x_1,x_2]$ can be written as $\\pmb{x} = x_1\\pmb{i} + x_2\\pmb{j}$. As it turns out, the linear combination which defines this vector is identical to the linear combination which defines the resultant vector after a linear transformation. For example, in the case where $\\pmb{x} = [2,1]$:\n",
    "\n",
    "Before transformation: $\\pmb{x} = 2\\pmb{i} + 1\\pmb{j}$\n",
    "\n",
    "After transformation: $\\tilde{\\pmb{x}} = 2\\tilde{\\pmb{i}} + 1\\tilde{\\pmb{j}}$\n",
    "\n",
    "Using the example above where the transformed unit vectors are given as $\\tilde{\\pmb{i}} =  [1, -2]$ and $\\tilde{\\pmb{j}} =  [3, 0]$, we can therefore compute $\\tilde{\\pmb{x}}$ as:\n",
    "\n",
    "\\begin{equation}\n",
    "\\tilde{\\pmb{x}} = 2\\begin{bmatrix} 1 \\\\ -2 \\end{bmatrix} + 1\\begin{bmatrix} 3 \\\\ 0 \\end{bmatrix} = \\begin{bmatrix} (2\\times1) + (1\\times3) \\\\ (2\\times-2) + (1\\times0) \\end{bmatrix} = \\begin{bmatrix} 5 \\\\ -4 \\end{bmatrix}\n",
    "\\end{equation}"
   ]
  },
  {
   "cell_type": "code",
   "execution_count": 80,
   "id": "c926b28a",
   "metadata": {},
   "outputs": [
    {
     "data": {
      "image/png": "[encoded data removed]",
      "text/plain": [
       "<Figure size 720x360 with 2 Axes>"
      ]
     },
     "metadata": {
      "needs_background": "light"
     },
     "output_type": "display_data"
    }
   ],
   "source": [
    "i = np.array([1,0])\n",
    "j = np.array([0,1])\n",
    "i_T = np.array([1,-2])\n",
    "j_T = np.array([3,0])\n",
    "x = [2,1]\n",
    "x_T = [5,-4]\n",
    "\n",
    "fig,ax = plt.subplots(1,2,figsize=(10,5))\n",
    "for c in range(2):\n",
    "    ax[c] = plot_setup(ax[c],[-1,6],[-5,3],xcoords=[1,0.54],ycoords=[0.2,0.95])\n",
    "    ax[c].scatter([0,1],[0,1],color='w')\n",
    "    \n",
    "    if c == 0:\n",
    "        ax[c].quiver(0,0,i[0],i[1],units='xy',angles='xy',scale=0.9,color='r')\n",
    "        ax[c].quiver(0,0,j[0],j[1],units='xy',angles='xy',scale=0.9,color='r')\n",
    "        ax[c].quiver(0,0,x[0],x[1],units='xy',angles='xy',scale=0.9,color='k')\n",
    "        ax[c].text(0.1,0.5,'$\\mathbf{j}$',color='r',fontsize=14)\n",
    "        ax[c].text(0.4,-0.3,'$\\mathbf{i}$',color='r',fontsize=14)\n",
    "        ax[c].text(1.2,0.9,'$\\mathbf{x}$',color='k',fontsize=14)\n",
    "    else:\n",
    "        ax[c].quiver(0,0,i_T[0],i_T[1],units='xy',angles='xy',scale=0.95,color='r')\n",
    "        ax[c].quiver(0,0,j_T[0],j_T[1],units='xy',angles='xy',scale=0.95,color='r')\n",
    "        ax[c].quiver(0,0,x_T[0],x_T[1],units='xy',angles='xy',scale=0.95,color='k')\n",
    "        ax[c].text(1.5,0.25,r'$\\tilde{\\mathbf{j}}$',color='r',fontsize=14)\n",
    "        ax[c].text(1,-1.7,r'$\\tilde{\\mathbf{i}}$',color='r',fontsize=14)\n",
    "        ax[c].text(4,-3,r'$\\tilde{\\mathbf{x}}$',color='k',fontsize=14)\n",
    "plt.show()"
   ]
  },
  {
   "cell_type": "markdown",
   "id": "127020eb",
   "metadata": {},
   "source": [
    "### So what does this all have to do with matrices?\n",
    "\n",
    "Based on the concepts above, we can write a general expression for the linear transformation of a (2D) vector.\n",
    "\n",
    "\\begin{equation}\n",
    "\\mathcal{L} = x_1\\tilde{\\pmb{i}} + x_2\\tilde{\\pmb{j}} = \\begin{bmatrix} x_1\\tilde{i}_1 + x_2\\tilde{j}_1 \\\\ x_1\\tilde{i}_2 + x_2\\tilde{j}_2 \\end{bmatrix}.\n",
    "\\end{equation}\n",
    "\n",
    "From this we can see how the linear transformation of any 2D vector can be completely defined by the four numbers which describe $\\tilde{\\pmb{i}}$ and $\\tilde{\\pmb{j}}$. It is common to represent these four numbers as a as a 2$\\times$2 **matrix**:\n",
    "\n",
    "\\begin{equation}\n",
    "\\begin{bmatrix} \\tilde{i}_1 & \\tilde{j}_1 \\\\ \\tilde{i}_2 & \\tilde{j}_2 \\end{bmatrix}.\n",
    "\\end{equation}\n",
    "\n",
    "Matrices are often thought of as tables, or simply columns of different vectors, but here we can see that they actually contain information required to describe a particular linear transformation. Therefore when we now see examples of matrix-vector multiplication, like the following: \n",
    "\n",
    "\\begin{equation}\n",
    "\\pmb{A}\\pmb{b} = \\begin{bmatrix} a_{11} & a_{12} \\\\ a_{21} & a_{22} \\end{bmatrix}\\begin{bmatrix} b_1 \\\\ b_2 \\end{bmatrix},\n",
    "\\end{equation}\n",
    "\n",
    "we can visualise this as a linear transformation of the vector $\\pmb{b}$, with the matrix $\\pmb{A}$ describing the locations of the two basis vectors."
   ]
  },
  {
   "cell_type": "code",
   "execution_count": null,
   "id": "2900ceb1",
   "metadata": {},
   "outputs": [],
   "source": []
  }
 ],
 "metadata": {
  "kernelspec": {
   "display_name": "Python 3 (ipykernel)",
   "language": "python",
   "name": "python3"
  },
  "language_info": {
   "codemirror_mode": {
    "name": "ipython",
    "version": 3
   },
   "file_extension": ".py",
   "mimetype": "text/x-python",
   "name": "python",
   "nbconvert_exporter": "python",
   "pygments_lexer": "ipython3",
   "version": "3.9.16"
  }
 },
 "nbformat": 4,
 "nbformat_minor": 5
}
