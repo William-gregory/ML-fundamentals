{
 "cells": [
  {
   "cell_type": "markdown",
   "id": "f17b4606",
   "metadata": {},
   "source": [
    "This notebook follows on from the first notebook in this series '01 Introduction to vectors'. Here we will be looking at matrices, and specifically how they can be considered as operators which perform linear transformations\n",
    "\n",
    "### Load libraries and setup plotting function"
   ]
  },
  {
   "cell_type": "code",
   "execution_count": 2,
   "id": "a9131c87",
   "metadata": {},
   "outputs": [],
   "source": [
    "import numpy as np\n",
    "import matplotlib.pyplot as plt\n",
    "\n",
    "def plot_setup(ax,xlim=[-2,4],ylim=[-2,4],xcoords=[1,0.4],ycoords=[0.4,0.95]): \n",
    "    ax.spines['top'].set_color('none')\n",
    "    ax.spines['bottom'].set_position('zero')\n",
    "    ax.spines['left'].set_position('zero')\n",
    "    ax.spines['right'].set_color('none')\n",
    "    ax.grid(True,alpha=.3)\n",
    "    ax.set_xlim(xlim)\n",
    "    ax.set_ylim(ylim)\n",
    "    ax.set_xticks(np.arange(xlim[0],xlim[1]+1, 1))\n",
    "    ax.set_yticks(np.arange(ylim[0], ylim[1]+1, 1))\n",
    "    ax.set_xlabel('$x_1$',fontsize=12)\n",
    "    ax.set_ylabel('$x_2$',rotation=0,labelpad=15,fontsize=12)\n",
    "    ax.xaxis.set_label_coords(xcoords[0],xcoords[1])\n",
    "    ax.yaxis.set_label_coords(ycoords[0],ycoords[1])\n",
    "    return ax"
   ]
  },
  {
   "cell_type": "markdown",
   "id": "ba020729",
   "metadata": {},
   "source": [
    "### What is a linear transformation?\n",
    "\n",
    "A linear transformation is effectively a function which maps some input vector into a new output vector of equal dimensions, for example:\n",
    "\n",
    "\\begin{equation}\n",
    "\\pmb{y} = \\mathcal{L}(\\pmb{x}).\n",
    "\\end{equation}\n",
    "\n",
    "A transformation is said to be 'linear' if both the origin point remains fixed before and after the transformation, and that straight lines in the space of vectors remain straight lines (i.e., they do not become curved). You can also think of this as the grid lines in the space of vectors must remain parallel.\n",
    "\n",
    "Consider for example the vector $\\pmb{x} = [-1, 2]$. From the concept of basis vectors (introduced in notebook 01), we know that an equal representation of this vector is $\\pmb{x} = -1\\pmb{i} + 2\\pmb{j}$.\n",
    "\n"
   ]
  },
  {
   "cell_type": "code",
   "execution_count": 93,
   "id": "2645aa7b",
   "metadata": {},
   "outputs": [
    {
     "data": {
      "image/png": "[encoded data removed]",
      "text/plain": [
       "<Figure size 360x360 with 1 Axes>"
      ]
     },
     "metadata": {
      "needs_background": "light"
     },
     "output_type": "display_data"
    }
   ],
   "source": [
    "i = np.array([1,0])\n",
    "j = np.array([0,1])\n",
    "x = [-1,2]\n",
    "\n",
    "fig,ax = plt.subplots(1,figsize=(5,5))\n",
    "ax = plot_setup(ax,[-2,2],[-1,3],xcoords=[1,0.32])\n",
    "ax.scatter([0,x[0]],[0,x[1]],color='w')\n",
    "\n",
    "ax.quiver(0,0,i[0],i[1],units='xy',angles='xy',scale=0.95,color='r')\n",
    "ax.quiver(0,0,j[0],j[1],units='xy',angles='xy',scale=0.95,color='r')\n",
    "ax.quiver(0,0,x[0],x[1],units='xy',angles='xy',scale=0.97,color='k')\n",
    "ax.text(0.1,0.5,'$\\mathbf{j}$',color='r',fontsize=14)\n",
    "ax.text(0.4,0.1,'$\\mathbf{i}$',color='r',fontsize=14)\n",
    "ax.text(-0.75,1,'$\\mathbf{x}$',color='k',fontsize=14)\n",
    "plt.show()"
   ]
  },
  {
   "cell_type": "markdown",
   "id": "ee889f26",
   "metadata": {},
   "source": [
    "Now let's consider the following linear transformation, where here the subscript 'T' denotes a vector which has undergone a linear transformation"
   ]
  },
  {
   "cell_type": "code",
   "execution_count": 89,
   "id": "c926b28a",
   "metadata": {},
   "outputs": [
    {
     "data": {
      "image/png": "[encoded data removed]",
      "text/plain": [
       "<Figure size 360x360 with 1 Axes>"
      ]
     },
     "metadata": {
      "needs_background": "light"
     },
     "output_type": "display_data"
    }
   ],
   "source": [
    "i_T = np.array([1,-2])\n",
    "j_T = np.array([3,0])\n",
    "x_T = [5,2]\n",
    "\n",
    "fig,ax = plt.subplots(1,figsize=(5,5))\n",
    "ax = plot_setup(ax,[-1,5],[-3,4],xcoords=[1,0.35],ycoords=[0.23,0.95])\n",
    "ax.scatter([0,x[0]],[0,x[1]],color='w')\n",
    "\n",
    "ax.quiver(0,0,i_T[0],i_T[1],units='xy',angles='xy',scale=0.97,color='r')\n",
    "ax.quiver(0,0,j_T[0],j_T[1],units='xy',angles='xy',scale=0.89,color='r')\n",
    "ax.quiver(0,0,x_T[0],x_T[1],units='xy',angles='xy',scale=0.92,color='k')\n",
    "ax.text(1.5,0.25,'$\\mathbf{j}_\\mathrm{T}$',color='r',fontsize=14)\n",
    "ax.text(0.6,-1,'$\\mathbf{i}_\\mathrm{T}$',color='r',fontsize=14)\n",
    "ax.text(3,1.5,'$\\mathbf{x}_\\mathrm{T}$',color='k',fontsize=14)\n",
    "plt.show()"
   ]
  },
  {
   "cell_type": "markdown",
   "id": "629ff7fe",
   "metadata": {},
   "source": [
    "We notice here how the basis vectors $\\pmb{i}$ and $\\pmb{j}$ (and hence the vector $\\pmb{x}$) have effectively undergone a rotation about the origin, followed by a scaling. What we also notice is that the definition of $\\pmb{x}$ as a linear combination of the basis vectors still holds after the transformation:\n",
    "\n",
    "$\\pmb{x} = -1\\pmb{i} + 2\\pmb{j}$\n",
    "\n",
    "$\\pmb{x}_\\mathrm{T} = -1\\pmb{i}_\\mathrm{T} + 2\\pmb{j}_\\mathrm{T}$\n",
    "\n",
    "This concept means that we can deduce the coordinates of $\\pmb{x}_\\mathrm{T}$, based only the coordinates of $\\pmb{i}_\\mathrm{T}$ and $\\pmb{j}_\\mathrm{T}$:\n"
   ]
  },
  {
   "cell_type": "code",
   "execution_count": null,
   "id": "dd94a3e1",
   "metadata": {},
   "outputs": [],
   "source": []
  }
 ],
 "metadata": {
  "kernelspec": {
   "display_name": "Python 3 (ipykernel)",
   "language": "python",
   "name": "python3"
  },
  "language_info": {
   "codemirror_mode": {
    "name": "ipython",
    "version": 3
   },
   "file_extension": ".py",
   "mimetype": "text/x-python",
   "name": "python",
   "nbconvert_exporter": "python",
   "pygments_lexer": "ipython3",
   "version": "3.9.16"
  }
 },
 "nbformat": 4,
 "nbformat_minor": 5
}
