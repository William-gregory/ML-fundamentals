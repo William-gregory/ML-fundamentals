{
 "cells": [
  {
   "cell_type": "markdown",
   "metadata": {},
   "source": [
    "This notebook follows on from the first blog in this series '01 introduction to vectors'. These notebooks follow the concepts outlined in the highly recommended youtube video series ['essence of linear algebra'](https://www.youtube.com/playlist?list=PLZHQObOWTQDPD3MizzM2xVFitgF8hE_ab) by 3Blue1Brown. Here we will be looking at matrices, and specifically how they can be considered as operators which perform linear transformations\n",
    "\n",
    "### Load libraries and setup plotting function"
   ]
  },
  {
   "cell_type": "code",
   "execution_count": 139,
   "metadata": {},
   "outputs": [],
   "source": [
    "import numpy as np\n",
    "import matplotlib.pyplot as plt\n",
    "\n",
    "def plot_setup(ax,xlim=[-2,4],ylim=[-2,4],xcoords=[1,0.4],ycoords=[0.4,0.95]): \n",
    "    ax.spines['top'].set_color('none')\n",
    "    ax.spines['bottom'].set_position('zero')\n",
    "    ax.spines['left'].set_position('zero')\n",
    "    ax.spines['right'].set_color('none')\n",
    "    ax.grid(True,alpha=.3)\n",
    "    ax.set_xlim(xlim)\n",
    "    ax.set_ylim(ylim)\n",
    "    ax.set_xticks(np.arange(xlim[0],xlim[1]+1, 1))\n",
    "    ax.set_yticks(np.arange(ylim[0], ylim[1]+1, 1))\n",
    "    ax.set_xlabel('$x_1$',fontsize=12)\n",
    "    ax.set_ylabel('$x_2$',rotation=0,labelpad=15,fontsize=12)\n",
    "    ax.xaxis.set_label_coords(xcoords[0],xcoords[1])\n",
    "    ax.yaxis.set_label_coords(ycoords[0],ycoords[1])\n",
    "    return ax"
   ]
  },
  {
   "cell_type": "markdown",
   "metadata": {},
   "source": [
    "### What is a linear transformation?\n",
    "\n",
    "A linear transformation is effectively a function which maps some input vector into a new output vector of equal dimensions, for example:\n",
    "\n",
    "\\begin{equation}\n",
    "\\pmb{y} = \\mathcal{L}(\\pmb{x}).\n",
    "\\end{equation}\n"
   ]
  },
  {
   "cell_type": "code",
   "execution_count": 140,
   "metadata": {},
   "outputs": [
    {
     "data": {
      "image/png": "[encoded data removed]",
      "text/plain": [
       "<Figure size 360x360 with 1 Axes>"
      ]
     },
     "metadata": {
      "needs_background": "light"
     },
     "output_type": "display_data"
    }
   ],
   "source": [
    "x = [3,1]\n",
    "\n",
    "fig,ax = plt.subplots(1,figsize=(5,5))\n",
    "ax = plot_setup(ax)\n",
    "ax.scatter([0,x[0]],[0,x[1]],color='w')\n",
    "ax.quiver(0,0,x[0],x[1],units='xy',angles='xy',scale=0.95) #quiver function is a bit temperamental with the scaling\n",
    "plt.show()\n"
   ]
  },
  {
   "cell_type": "code",
   "execution_count": null,
   "metadata": {},
   "outputs": [],
   "source": []
  }
 ],
 "metadata": {
  "kernelspec": {
   "display_name": "Python 3",
   "language": "python",
   "name": "python3"
  },
  "language_info": {
   "codemirror_mode": {
    "name": "ipython",
    "version": 3
   },
   "file_extension": ".py",
   "mimetype": "text/x-python",
   "name": "python",
   "nbconvert_exporter": "python",
   "pygments_lexer": "ipython3",
   "version": "3.7.4"
  }
 },
 "nbformat": 4,
 "nbformat_minor": 5
}
